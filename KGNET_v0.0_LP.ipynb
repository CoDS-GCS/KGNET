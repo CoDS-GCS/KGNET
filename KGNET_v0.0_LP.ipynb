{
 "cells": [
  {
   "cell_type": "code",
   "execution_count": 1,
   "id": "09df9421",
   "metadata": {},
   "outputs": [
    {
     "name": "stderr",
     "output_type": "stream",
     "text": [
      "/home/hussein/anaconda3/envs/ogb/lib/python3.9/site-packages/scipy/__init__.py:146: UserWarning: A NumPy version >=1.16.5 and <1.23.0 is required for this version of SciPy (detected version 1.25.2\n",
      "  warnings.warn(f\"A NumPy version >={np_minversion} and <{np_maxversion}\"\n",
      "/home/hussein/anaconda3/envs/ogb/lib/python3.9/site-packages/tqdm/auto.py:22: TqdmWarning: IProgress not found. Please update jupyter and ipywidgets. See https://ipywidgets.readthedocs.io/en/stable/user_install.html\n",
      "  from .autonotebook import tqdm as notebook_tqdm\n",
      "WARNING:root:The OGB package is out of date. Your version is 1.3.5, while the latest version is 1.3.6.\n"
     ]
    }
   ],
   "source": [
    "from KGNET import KGNET"
   ]
  },
  {
   "cell_type": "code",
   "execution_count": 2,
   "id": "bbc44719",
   "metadata": {},
   "outputs": [],
   "source": [
    "kgnet=KGNET(KG_endpointUrl='http://206.12.98.118:8890/sparql',KG_NamedGraph_IRI='https://dblp2022.org',KG_Prefix='dblp2022')"
   ]
  },
  {
   "cell_type": "markdown",
   "id": "d68e814f",
   "metadata": {},
   "source": [
    "## visualize graph schema"
   ]
  },
  {
   "cell_type": "code",
   "execution_count": null,
   "id": "c5c1fd0f",
   "metadata": {
    "scrolled": false
   },
   "outputs": [],
   "source": [
    "types_df=kgnet.getKGNodeEdgeTypes()\n",
    "g=kgnet.visualizeKG(types_df,Notebook=True,width=\"100%\",height=\"1000px\")\n",
    "g.show('nx.html')"
   ]
  },
  {
   "cell_type": "code",
   "execution_count": null,
   "id": "b7493282",
   "metadata": {},
   "outputs": [],
   "source": [
    "types_df"
   ]
  },
  {
   "cell_type": "markdown",
   "id": "00704c2c",
   "metadata": {},
   "source": [
    "## Training Pipeline"
   ]
  },
  {
   "cell_type": "code",
   "execution_count": null,
   "id": "303a0277",
   "metadata": {},
   "outputs": [],
   "source": [
    "TargetEdge=\"https://dblp.org/rdf/schema#authoredBy\""
   ]
  },
  {
   "cell_type": "code",
   "execution_count": null,
   "id": "374fe9df",
   "metadata": {},
   "outputs": [],
   "source": [
    "\n",
    "taskId,modelId,trainMetadata=kgnet.train_GML( operatorType=KGNET.GML_Operator_Types.LinkPrediction,\n",
    "                                                       targetEdge=TargetEdge,\n",
    "                                                       GNNMethod=KGNET.GNN_Methods.MorsE)"
   ]
  },
  {
   "cell_type": "markdown",
   "id": "9dc3509b",
   "metadata": {},
   "source": [
    "### Query Task Info from KGMeta"
   ]
  },
  {
   "cell_type": "code",
   "execution_count": null,
   "id": "7a1336b6",
   "metadata": {},
   "outputs": [],
   "source": [
    "kgnet.KGMeta_Governer.getGMLTaskByID(taskId)"
   ]
  },
  {
   "cell_type": "markdown",
   "id": "50eb88b8",
   "metadata": {},
   "source": [
    "### Query Model Info from KGMeta"
   ]
  },
  {
   "cell_type": "code",
   "execution_count": null,
   "id": "5a52a8fe",
   "metadata": {
    "scrolled": true
   },
   "outputs": [],
   "source": [
    "kgnet.KGMeta_Governer.getGMLModelByID(modelId)"
   ]
  },
  {
   "cell_type": "markdown",
   "id": "bfed117e",
   "metadata": {},
   "source": [
    "## Inference Pipeline\n",
    "write the SPARQL-ML inference query then execute it. KGNet will choose the model that match your task."
   ]
  },
  {
   "cell_type": "code",
   "execution_count": null,
   "id": "514548ff",
   "metadata": {},
   "outputs": [],
   "source": [
    "query = \"\"\"\n",
    "                    prefix dblp2022:<https://dblp.org/rdf/schema#>\n",
    "                    prefix kgnet:<https://kgnet/>\n",
    "                    select ?publication ?author                    \n",
    "                    from <https://dblp2022.org>\n",
    "                    where {\n",
    "                    ?publication a dblp2022:Publication.\n",
    "                    ?publication ?LinkPredictor ?author.\n",
    "                    ?LinkPredictor  a <kgnet:types/LinkPredictor>.\n",
    "                    ?LinkPredictor  <kgnet:targetEdge> \\\"\"\"\"+TargetEdge+\"\"\"\\\" .\n",
    "                    ?LinkPredictor <kgnet:GNNMethod> \"MorsE\" .\n",
    "                    ?LinkPredictor <kgnet:topK> 3 .\n",
    "                    }\n",
    "                    limit 300\n",
    "                    offset 0\n",
    "        \"\"\""
   ]
  },
  {
   "cell_type": "code",
   "execution_count": null,
   "id": "cb30d958",
   "metadata": {},
   "outputs": [],
   "source": [
    "res_df,inferenceQueryMetadata=kgnet.executeSPARQLMLInferenceQuery(query)"
   ]
  },
  {
   "cell_type": "code",
   "execution_count": null,
   "id": "96ec4248",
   "metadata": {},
   "outputs": [],
   "source": [
    "res_df"
   ]
  },
  {
   "cell_type": "code",
   "execution_count": null,
   "id": "85766bec",
   "metadata": {},
   "outputs": [],
   "source": [
    "#for key in inferenceQueryMetadata:\n",
    "#    print(\"####################\"+key+\"#######################\")\n",
    "#    print(inferenceQueryMetadata[key])"
   ]
  }
 ],
 "metadata": {
  "kernelspec": {
   "display_name": "ogb",
   "language": "python",
   "name": "ogb"
  },
  "language_info": {
   "codemirror_mode": {
    "name": "ipython",
    "version": 3
   },
   "file_extension": ".py",
   "mimetype": "text/x-python",
   "name": "python",
   "nbconvert_exporter": "python",
   "pygments_lexer": "ipython3",
   "version": "3.9.7"
  }
 },
 "nbformat": 4,
 "nbformat_minor": 5
}
