{
 "cells": [
  {
   "cell_type": "code",
   "execution_count": 3,
   "id": "edd9f930",
   "metadata": {},
   "outputs": [
    {
     "ename": "ModuleNotFoundError",
     "evalue": "No module named 'dgl'",
     "output_type": "error",
     "traceback": [
      "\u001b[0;31m---------------------------------------------------------------------------\u001b[0m",
      "\u001b[0;31mModuleNotFoundError\u001b[0m                       Traceback (most recent call last)",
      "\u001b[0;32m/tmp/ipykernel_1137968/2207757679.py\u001b[0m in \u001b[0;36m<module>\u001b[0;34m\u001b[0m\n\u001b[1;32m      1\u001b[0m \u001b[0;31m# Load Graph Property Prediction datasets in OGB\u001b[0m\u001b[0;34m\u001b[0m\u001b[0;34m\u001b[0m\u001b[0;34m\u001b[0m\u001b[0m\n\u001b[0;32m----> 2\u001b[0;31m \u001b[0;32mimport\u001b[0m \u001b[0mdgl\u001b[0m\u001b[0;34m\u001b[0m\u001b[0;34m\u001b[0m\u001b[0m\n\u001b[0m\u001b[1;32m      3\u001b[0m \u001b[0;32mimport\u001b[0m \u001b[0mtorch\u001b[0m\u001b[0;34m\u001b[0m\u001b[0;34m\u001b[0m\u001b[0m\n\u001b[1;32m      4\u001b[0m \u001b[0;32mfrom\u001b[0m \u001b[0mogb\u001b[0m\u001b[0;34m.\u001b[0m\u001b[0mgraphproppred\u001b[0m \u001b[0;32mimport\u001b[0m \u001b[0mDglGraphPropPredDataset\u001b[0m\u001b[0;34m\u001b[0m\u001b[0;34m\u001b[0m\u001b[0m\n\u001b[1;32m      5\u001b[0m \u001b[0;32mfrom\u001b[0m \u001b[0mdgl\u001b[0m\u001b[0;34m.\u001b[0m\u001b[0mdataloading\u001b[0m \u001b[0;32mimport\u001b[0m \u001b[0mGraphDataLoader\u001b[0m\u001b[0;34m\u001b[0m\u001b[0;34m\u001b[0m\u001b[0m\n",
      "\u001b[0;31mModuleNotFoundError\u001b[0m: No module named 'dgl'"
     ]
    }
   ],
   "source": [
    "# Load Graph Property Prediction datasets in OGB\n",
    "import dgl\n",
    "import torch\n",
    "from ogb.graphproppred import DglGraphPropPredDataset\n",
    "from dgl.dataloading import GraphDataLoader"
   ]
  },
  {
   "cell_type": "code",
   "execution_count": 2,
   "id": "52efbd7b",
   "metadata": {},
   "outputs": [
    {
     "ename": "ModuleNotFoundError",
     "evalue": "No module named 'dgl'",
     "output_type": "error",
     "traceback": [
      "\u001b[0;31m---------------------------------------------------------------------------\u001b[0m",
      "\u001b[0;31mModuleNotFoundError\u001b[0m                       Traceback (most recent call last)",
      "\u001b[0;32m/tmp/ipykernel_1137968/3632684997.py\u001b[0m in \u001b[0;36m<module>\u001b[0;34m\u001b[0m\n\u001b[1;32m      1\u001b[0m \u001b[0;31m# Load Graph Property Prediction datasets in OGB\u001b[0m\u001b[0;34m\u001b[0m\u001b[0;34m\u001b[0m\u001b[0;34m\u001b[0m\u001b[0m\n\u001b[0;32m----> 2\u001b[0;31m \u001b[0;32mimport\u001b[0m \u001b[0mdgl\u001b[0m\u001b[0;34m\u001b[0m\u001b[0;34m\u001b[0m\u001b[0m\n\u001b[0m\u001b[1;32m      3\u001b[0m \u001b[0;32mimport\u001b[0m \u001b[0mtorch\u001b[0m\u001b[0;34m\u001b[0m\u001b[0;34m\u001b[0m\u001b[0m\n\u001b[1;32m      4\u001b[0m \u001b[0;32mfrom\u001b[0m \u001b[0mogb\u001b[0m\u001b[0;34m.\u001b[0m\u001b[0mgraphproppred\u001b[0m \u001b[0;32mimport\u001b[0m \u001b[0mDglGraphPropPredDataset\u001b[0m\u001b[0;34m\u001b[0m\u001b[0;34m\u001b[0m\u001b[0m\n\u001b[1;32m      5\u001b[0m \u001b[0;32mfrom\u001b[0m \u001b[0mdgl\u001b[0m\u001b[0;34m.\u001b[0m\u001b[0mdataloading\u001b[0m \u001b[0;32mimport\u001b[0m \u001b[0mGraphDataLoader\u001b[0m\u001b[0;34m\u001b[0m\u001b[0;34m\u001b[0m\u001b[0m\n",
      "\u001b[0;31mModuleNotFoundError\u001b[0m: No module named 'dgl'"
     ]
    }
   ],
   "source": [
    "\n",
    "\n",
    "\n",
    "def _collate_fn(batch):\n",
    "    # batch is a list of tuple (graph, label)\n",
    "    graphs = [e[0] for e in batch]\n",
    "    g = dgl.batch(graphs)\n",
    "    labels = [e[1] for e in batch]\n",
    "    labels = torch.stack(labels, 0)\n",
    "    return g, labels\n",
    "\n",
    "# load dataset\n",
    "dataset = DglGraphPropPredDataset(name='ogbg-molhiv')\n",
    "split_idx = dataset.get_idx_split()\n",
    "# dataloader\n",
    "train_loader = GraphDataLoader(dataset[split_idx[\"train\"]], batch_size=32, shuffle=True, collate_fn=_collate_fn)\n",
    "valid_loader = GraphDataLoader(dataset[split_idx[\"valid\"]], batch_size=32, shuffle=False, collate_fn=_collate_fn)\n",
    "test_loader = GraphDataLoader(dataset[split_idx[\"test\"]], batch_size=32, shuffle=False, collate_fn=_collate_fn)"
   ]
  },
  {
   "cell_type": "code",
   "execution_count": 5,
   "id": "1e90a8e1",
   "metadata": {},
   "outputs": [
    {
     "name": "stdout",
     "output_type": "stream",
     "text": [
      "Collecting dgl==0.4.3\n",
      "  Downloading dgl-0.4.3-cp37-cp37m-manylinux1_x86_64.whl (3.0 MB)\n",
      "\u001b[K     |████████████████████████████████| 3.0 MB 4.3 MB/s eta 0:00:01\n",
      "\u001b[?25hRequirement already satisfied: networkx>=2.1 in /home/hussein/anaconda3/envs/KGNET_V2/lib/python3.7/site-packages (from dgl==0.4.3) (2.6.3)\n",
      "Requirement already satisfied: scipy>=1.1.0 in /home/hussein/anaconda3/envs/KGNET_V2/lib/python3.7/site-packages (from dgl==0.4.3) (1.7.3)\n",
      "Requirement already satisfied: numpy>=1.14.0 in /home/hussein/anaconda3/envs/KGNET_V2/lib/python3.7/site-packages (from dgl==0.4.3) (1.21.2)\n",
      "Requirement already satisfied: requests>=2.19.0 in /home/hussein/anaconda3/envs/KGNET_V2/lib/python3.7/site-packages (from dgl==0.4.3) (2.27.1)\n",
      "Requirement already satisfied: idna<4,>=2.5 in /home/hussein/anaconda3/envs/KGNET_V2/lib/python3.7/site-packages (from requests>=2.19.0->dgl==0.4.3) (3.3)\n",
      "Requirement already satisfied: charset-normalizer~=2.0.0 in /home/hussein/anaconda3/envs/KGNET_V2/lib/python3.7/site-packages (from requests>=2.19.0->dgl==0.4.3) (2.0.4)\n",
      "Requirement already satisfied: urllib3<1.27,>=1.21.1 in /home/hussein/anaconda3/envs/KGNET_V2/lib/python3.7/site-packages (from requests>=2.19.0->dgl==0.4.3) (1.26.8)\n",
      "Requirement already satisfied: certifi>=2017.4.17 in /home/hussein/anaconda3/envs/KGNET_V2/lib/python3.7/site-packages (from requests>=2.19.0->dgl==0.4.3) (2021.10.8)\n",
      "Installing collected packages: dgl\n",
      "  Attempting uninstall: dgl\n",
      "    Found existing installation: dgl 0.8.0.post1\n",
      "    Uninstalling dgl-0.8.0.post1:\n",
      "      Successfully uninstalled dgl-0.8.0.post1\n",
      "Successfully installed dgl-0.4.3\n"
     ]
    }
   ],
   "source": [
    "!pip install dgl==0.4.3"
   ]
  },
  {
   "cell_type": "code",
   "execution_count": null,
   "id": "fdb560c6",
   "metadata": {},
   "outputs": [],
   "source": []
  }
 ],
 "metadata": {
  "kernelspec": {
   "display_name": "Python 3 (ipykernel)",
   "language": "python",
   "name": "python3"
  },
  "language_info": {
   "codemirror_mode": {
    "name": "ipython",
    "version": 3
   },
   "file_extension": ".py",
   "mimetype": "text/x-python",
   "name": "python",
   "nbconvert_exporter": "python",
   "pygments_lexer": "ipython3",
   "version": "3.8.10"
  }
 },
 "nbformat": 4,
 "nbformat_minor": 5
}
