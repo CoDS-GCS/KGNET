{
 "cells": [
  {
   "cell_type": "code",
   "execution_count": 1,
   "id": "09df9421",
   "metadata": {},
   "outputs": [
    {
     "name": "stderr",
     "output_type": "stream",
     "text": [
      "/home/hussein/anaconda3/envs/ogb/lib/python3.9/site-packages/scipy/__init__.py:146: UserWarning: A NumPy version >=1.16.5 and <1.23.0 is required for this version of SciPy (detected version 1.25.2\n",
      "  warnings.warn(f\"A NumPy version >={np_minversion} and <{np_maxversion}\"\n",
      "/home/hussein/anaconda3/envs/ogb/lib/python3.9/site-packages/tqdm/auto.py:22: TqdmWarning: IProgress not found. Please update jupyter and ipywidgets. See https://ipywidgets.readthedocs.io/en/stable/user_install.html\n",
      "  from .autonotebook import tqdm as notebook_tqdm\n",
      "WARNING:root:The OGB package is out of date. Your version is 1.3.5, while the latest version is 1.3.6.\n"
     ]
    }
   ],
   "source": [
    "from KGNET import KGNET"
   ]
  },
  {
   "cell_type": "code",
   "execution_count": 2,
   "id": "bbc44719",
   "metadata": {},
   "outputs": [],
   "source": [
    "kgnet=KGNET(KG_endpointUrl='http://206.12.98.118:8890/sparql',KG_NamedGraph_IRI='https://dblp2022.org',KG_Prefix='dblp2022')"
   ]
  },
  {
   "cell_type": "markdown",
   "id": "d68e814f",
   "metadata": {},
   "source": [
    "## visualize graph schema"
   ]
  },
  {
   "cell_type": "code",
   "execution_count": null,
   "id": "c5c1fd0f",
   "metadata": {
    "scrolled": true
   },
   "outputs": [],
   "source": [
    "types_df=kgnet.getKGNodeEdgeTypes(write_to_file=True,prefix='dblp2022')\n",
    "types_df=types_df[(~types_df[\"object\"].str.endswith(\"_Obj\")) | (types_df[\"object\"].str.endswith(\"publishedIn_Obj\"))]\n",
    "#types_df=types_df[~types_df[\"object\"].str.endswith(\"_Obj\") & types_df[\"object\"].str.contains(\"publishedIn\")]\n",
    "g=kgnet.visualizeKG(types_df,Notebook=True,\n",
    "                    width=\"100%\",height=\"300px\")\n",
    "g.show('nx.html')"
   ]
  },
  {
   "cell_type": "code",
   "execution_count": null,
   "id": "faaa5217",
   "metadata": {},
   "outputs": [],
   "source": [
    "types_df"
   ]
  },
  {
   "cell_type": "markdown",
   "id": "00704c2c",
   "metadata": {},
   "source": [
    "## Training Pipeline"
   ]
  },
  {
   "cell_type": "code",
   "execution_count": null,
   "id": "374fe9df",
   "metadata": {},
   "outputs": [],
   "source": [
    "taskId,modelId,trainMetadata=kgnet.train_GML(operatorType=KGNET.GML_Operator_Types.NodeClassification,\n",
    "                                             GNNMethod=KGNET.GNN_Methods.Graph_SAINT,\n",
    "                                             targetNodeType=\"dblp2022:Publication\",labelNodeType=\"dblp2022:publishedIn_Obj\")"
   ]
  },
  {
   "cell_type": "markdown",
   "id": "9dc3509b",
   "metadata": {},
   "source": [
    "### Query Task Info from KGMeta"
   ]
  },
  {
   "cell_type": "code",
   "execution_count": null,
   "id": "7a1336b6",
   "metadata": {},
   "outputs": [],
   "source": [
    "kgnet.KGMeta_Governer.getGMLTaskBasicInfoByID(taskId)"
   ]
  },
  {
   "cell_type": "markdown",
   "id": "50eb88b8",
   "metadata": {},
   "source": [
    "### Query Task Trained Models Info from KGMeta\n",
    "<li> The green color indicates the best model to choose.</li>\n",
    "<li> The orange color indicates the model selected by KGNET Inference query optimizer which balance between infernce time and model accuracy. </li>"
   ]
  },
  {
   "cell_type": "code",
   "execution_count": null,
   "id": "5a52a8fe",
   "metadata": {
    "scrolled": true
   },
   "outputs": [],
   "source": [
    "df,styler_df=kgnet.KGMeta_Governer.getGMLTaskModelsBasicInfoByID(taskId)\n",
    "styler_df"
   ]
  },
  {
   "cell_type": "markdown",
   "id": "bfed117e",
   "metadata": {},
   "source": [
    "## Inference Pipeline\n",
    "write the SPARQL-ML inference query then execute it. KGNet will choose the model that match your task."
   ]
  },
  {
   "cell_type": "code",
   "execution_count": 3,
   "id": "514548ff",
   "metadata": {},
   "outputs": [],
   "source": [
    "query = \"\"\"\n",
    "            prefix dblp2022:<https://dblp.org/rdf/schema#>\n",
    "            prefix kgnet:<http://kgnet/>\n",
    "            select ?Publication ?Title ?Org_Venue ?Pred_Venue\n",
    "            from <https://dblp2022.org>\n",
    "            where\n",
    "            {\n",
    "            ?Publication a dblp2022:Publication .\n",
    "            ?Publication ?NodeClassifier ?Pred_Venue .            \n",
    "            ?Publication  dblp2022:publishedIn ?Org_Venue .\n",
    "            ?Publication  dblp2022:title ?Title .\n",
    "            ?NodeClassifier a <kgnet:types/NodeClassifier>.\n",
    "            ?NodeClassifier <kgnet:targetNode> dblp2022:Publication.\n",
    "            ?NodeClassifier <kgnet:labelNode> dblp2022:publishedIn_Obj.\n",
    "            }\n",
    "            limit 10\n",
    "        \"\"\"\n"
   ]
  },
  {
   "cell_type": "code",
   "execution_count": 4,
   "id": "cb30d958",
   "metadata": {},
   "outputs": [
    {
     "name": "stdout",
     "output_type": "stream",
     "text": [
      "The task selected model ID is: 83\n"
     ]
    }
   ],
   "source": [
    "res_df,inferenceQueryMetadata=kgnet.executeSPARQLMLInferenceQuery(query)\n",
    "print(\"The task selected model ID is:\",inferenceQueryMetadata[\"model_id\"])"
   ]
  },
  {
   "cell_type": "code",
   "execution_count": 5,
   "id": "5271cb30",
   "metadata": {},
   "outputs": [
    {
     "data": {
      "text/html": [
       "<style type=\"text/css\">\n",
       "#T_47ebb_row0_col3, #T_47ebb_row1_col3, #T_47ebb_row2_col3, #T_47ebb_row3_col3, #T_47ebb_row4_col3, #T_47ebb_row5_col3, #T_47ebb_row6_col3, #T_47ebb_row7_col3, #T_47ebb_row8_col3, #T_47ebb_row9_col3 {\n",
       "  background-color: palegreen;\n",
       "  font-weight: bold;\n",
       "  color: red;\n",
       "}\n",
       "</style>\n",
       "<table id=\"T_47ebb\">\n",
       "  <thead>\n",
       "    <tr>\n",
       "      <th class=\"blank level0\" >&nbsp;</th>\n",
       "      <th id=\"T_47ebb_level0_col0\" class=\"col_heading level0 col0\" >Publication</th>\n",
       "      <th id=\"T_47ebb_level0_col1\" class=\"col_heading level0 col1\" >Title</th>\n",
       "      <th id=\"T_47ebb_level0_col2\" class=\"col_heading level0 col2\" >Org_Venue</th>\n",
       "      <th id=\"T_47ebb_level0_col3\" class=\"col_heading level0 col3\" >Pred_Venue</th>\n",
       "    </tr>\n",
       "  </thead>\n",
       "  <tbody>\n",
       "    <tr>\n",
       "      <th id=\"T_47ebb_level0_row0\" class=\"row_heading level0 row0\" >0</th>\n",
       "      <td id=\"T_47ebb_row0_col0\" class=\"data row0 col0\" >\"https://dblp.org/rec/conf/ctrsa/Bultel22\"</td>\n",
       "      <td id=\"T_47ebb_row0_col1\" class=\"data row0 col1\" >\"CCA Secure A Posteriori Openable Encryption in the Standard Model.\"</td>\n",
       "      <td id=\"T_47ebb_row0_col2\" class=\"data row0 col2\" >\"CT-RSA\"</td>\n",
       "      <td id=\"T_47ebb_row0_col3\" class=\"data row0 col3\" >612</td>\n",
       "    </tr>\n",
       "    <tr>\n",
       "      <th id=\"T_47ebb_level0_row1\" class=\"row_heading level0 row1\" >1</th>\n",
       "      <td id=\"T_47ebb_row1_col0\" class=\"data row1 col0\" >\"https://dblp.org/rec/conf/ctrsa/CaoSCCFW22\"</td>\n",
       "      <td id=\"T_47ebb_row1_col1\" class=\"data row1 col1\" >\"Lattice-Based Fault Attacks on Deterministic Signature Schemes of ECDSA and EdDSA.\"</td>\n",
       "      <td id=\"T_47ebb_row1_col2\" class=\"data row1 col2\" >\"CT-RSA\"</td>\n",
       "      <td id=\"T_47ebb_row1_col3\" class=\"data row1 col3\" >302</td>\n",
       "    </tr>\n",
       "    <tr>\n",
       "      <th id=\"T_47ebb_level0_row2\" class=\"row_heading level0 row2\" >2</th>\n",
       "      <td id=\"T_47ebb_row2_col0\" class=\"data row2 col0\" >\"https://dblp.org/rec/conf/ctrsa/Chevallier-Mames22\"</td>\n",
       "      <td id=\"T_47ebb_row2_col1\" class=\"data row2 col1\" >\"A Pairing-Free Signature Scheme from Correlation Intractable Hash Function and Strong Diffie-Hellman Assumption.\"</td>\n",
       "      <td id=\"T_47ebb_row2_col2\" class=\"data row2 col2\" >\"CT-RSA\"</td>\n",
       "      <td id=\"T_47ebb_row2_col3\" class=\"data row2 col3\" >597</td>\n",
       "    </tr>\n",
       "    <tr>\n",
       "      <th id=\"T_47ebb_level0_row3\" class=\"row_heading level0 row3\" >3</th>\n",
       "      <td id=\"T_47ebb_row3_col0\" class=\"data row3 col0\" >\"https://dblp.org/rec/conf/ctrsa/Chi-DominguezR22\"</td>\n",
       "      <td id=\"T_47ebb_row3_col1\" class=\"data row3 col1\" >\"Fully Projective Radical Isogenies in Constant-Time.\"</td>\n",
       "      <td id=\"T_47ebb_row3_col2\" class=\"data row3 col2\" >\"CT-RSA\"</td>\n",
       "      <td id=\"T_47ebb_row3_col3\" class=\"data row3 col3\" >352</td>\n",
       "    </tr>\n",
       "    <tr>\n",
       "      <th id=\"T_47ebb_level0_row4\" class=\"row_heading level0 row4\" >4</th>\n",
       "      <td id=\"T_47ebb_row4_col0\" class=\"data row4 col0\" >\"https://dblp.org/rec/conf/ctrsa/CidIR22\"</td>\n",
       "      <td id=\"T_47ebb_row4_col1\" class=\"data row4 col1\" >\"FASTA - A Stream Cipher for Fast FHE Evaluation.\"</td>\n",
       "      <td id=\"T_47ebb_row4_col2\" class=\"data row4 col2\" >\"CT-RSA\"</td>\n",
       "      <td id=\"T_47ebb_row4_col3\" class=\"data row4 col3\" >265</td>\n",
       "    </tr>\n",
       "    <tr>\n",
       "      <th id=\"T_47ebb_level0_row5\" class=\"row_heading level0 row5\" >5</th>\n",
       "      <td id=\"T_47ebb_row5_col0\" class=\"data row5 col0\" >\"https://dblp.org/rec/conf/ctrsa/CuiHWW22\"</td>\n",
       "      <td id=\"T_47ebb_row5_col1\" class=\"data row5 col1\" >\"Integral Attacks on Pyjamask-96 and Round-Reduced Pyjamask-128.\"</td>\n",
       "      <td id=\"T_47ebb_row5_col2\" class=\"data row5 col2\" >\"CT-RSA\"</td>\n",
       "      <td id=\"T_47ebb_row5_col3\" class=\"data row5 col3\" >352</td>\n",
       "    </tr>\n",
       "    <tr>\n",
       "      <th id=\"T_47ebb_level0_row6\" class=\"row_heading level0 row6\" >6</th>\n",
       "      <td id=\"T_47ebb_row6_col0\" class=\"data row6 col0\" >\"https://dblp.org/rec/conf/ctrsa/FouotsaP22\"</td>\n",
       "      <td id=\"T_47ebb_row6_col1\" class=\"data row6 col1\" >\"A New Adaptive Attack on SIDH.\"</td>\n",
       "      <td id=\"T_47ebb_row6_col2\" class=\"data row6 col2\" >\"CT-RSA\"</td>\n",
       "      <td id=\"T_47ebb_row6_col3\" class=\"data row6 col3\" >352</td>\n",
       "    </tr>\n",
       "    <tr>\n",
       "      <th id=\"T_47ebb_level0_row7\" class=\"row_heading level0 row7\" >7</th>\n",
       "      <td id=\"T_47ebb_row7_col0\" class=\"data row7 col0\" >\"https://dblp.org/rec/conf/ctrsa/Rosie22\"</td>\n",
       "      <td id=\"T_47ebb_row7_col1\" class=\"data row7 col1\" >\"Adaptively Secure Laconic Function Evaluation for NC1.\"</td>\n",
       "      <td id=\"T_47ebb_row7_col2\" class=\"data row7 col2\" >\"CT-RSA\"</td>\n",
       "      <td id=\"T_47ebb_row7_col3\" class=\"data row7 col3\" >352</td>\n",
       "    </tr>\n",
       "    <tr>\n",
       "      <th id=\"T_47ebb_level0_row8\" class=\"row_heading level0 row8\" >8</th>\n",
       "      <td id=\"T_47ebb_row8_col0\" class=\"data row8 col0\" >\"https://dblp.org/rec/conf/ctrsa/WuX22\"</td>\n",
       "      <td id=\"T_47ebb_row8_col1\" class=\"data row8 col1\" >\"More Accurate Geometric Analysis on the Impact of Successful Decryptions for IND-CCA Secure Ring/Mod-LWE/LWR Based Schemes.\"</td>\n",
       "      <td id=\"T_47ebb_row8_col2\" class=\"data row8 col2\" >\"CT-RSA\"</td>\n",
       "      <td id=\"T_47ebb_row8_col3\" class=\"data row8 col3\" >352</td>\n",
       "    </tr>\n",
       "    <tr>\n",
       "      <th id=\"T_47ebb_level0_row9\" class=\"row_heading level0 row9\" >9</th>\n",
       "      <td id=\"T_47ebb_row9_col0\" class=\"data row9 col0\" >\"https://dblp.org/rec/conf/padl/2022\"</td>\n",
       "      <td id=\"T_47ebb_row9_col1\" class=\"data row9 col1\" >\"Practical Aspects of Declarative Languages - 24th International Symposium, PADL 2022, Philadelphia, PA, USA, January 17-18, 2022, Proceedings\"</td>\n",
       "      <td id=\"T_47ebb_row9_col2\" class=\"data row9 col2\" >\"Lecture Notes in Computer Science\"</td>\n",
       "      <td id=\"T_47ebb_row9_col3\" class=\"data row9 col3\" >655</td>\n",
       "    </tr>\n",
       "  </tbody>\n",
       "</table>\n"
      ],
      "text/plain": [
       "<pandas.io.formats.style.Styler at 0x7f861177fac0>"
      ]
     },
     "execution_count": 5,
     "metadata": {},
     "output_type": "execute_result"
    }
   ],
   "source": [
    "styler_df=res_df.style.apply(kgnet.utils.highlightDiferrentRowValues, subset=['Org_Venue','Pred_Venue'], axis=1)\n",
    "styler_df"
   ]
  },
  {
   "cell_type": "code",
   "execution_count": null,
   "id": "c37183f1",
   "metadata": {},
   "outputs": [],
   "source": [
    "#for key in inferenceQueryMetadata:\n",
    "#    print(\"####################\"+key+\"#######################\")\n",
    "#    print(inferenceQueryMetadata[key])"
   ]
  }
 ],
 "metadata": {
  "kernelspec": {
   "display_name": "ogb",
   "language": "python",
   "name": "ogb"
  },
  "language_info": {
   "codemirror_mode": {
    "name": "ipython",
    "version": 3
   },
   "file_extension": ".py",
   "mimetype": "text/x-python",
   "name": "python",
   "nbconvert_exporter": "python",
   "pygments_lexer": "ipython3",
   "version": "3.9.7"
  }
 },
 "nbformat": 4,
 "nbformat_minor": 5
}
