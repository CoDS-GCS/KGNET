{
 "cells": [
  {
   "cell_type": "code",
   "execution_count": 1,
   "id": "21e73bad",
   "metadata": {},
   "outputs": [],
   "source": [
    "from GMLQueryRewriter import KG_Meta\n",
    "kg = KG_Meta.KgMeta()"
   ]
  },
  {
   "cell_type": "code",
   "execution_count": 3,
   "id": "77ea988b",
   "metadata": {},
   "outputs": [
    {
     "data": {
      "text/html": [
       "<div>\n",
       "<style scoped>\n",
       "    .dataframe tbody tr th:only-of-type {\n",
       "        vertical-align: middle;\n",
       "    }\n",
       "\n",
       "    .dataframe tbody tr th {\n",
       "        vertical-align: top;\n",
       "    }\n",
       "\n",
       "    .dataframe thead th {\n",
       "        text-align: right;\n",
       "    }\n",
       "</style>\n",
       "<table border=\"1\" class=\"dataframe\">\n",
       "  <thead>\n",
       "    <tr style=\"text-align: right;\">\n",
       "      <th></th>\n",
       "      <th>s</th>\n",
       "    </tr>\n",
       "  </thead>\n",
       "  <tbody>\n",
       "    <tr>\n",
       "      <th>0</th>\n",
       "      <td>kgnet:GML/GML_Task/DBLP_PV</td>\n",
       "    </tr>\n",
       "    <tr>\n",
       "      <th>1</th>\n",
       "      <td>kgnet:GML/GML_Task/MAG_PV</td>\n",
       "    </tr>\n",
       "    <tr>\n",
       "      <th>2</th>\n",
       "      <td>kgnet:GML/GML_Task/CIS_FD</td>\n",
       "    </tr>\n",
       "    <tr>\n",
       "      <th>3</th>\n",
       "      <td>kgnet:GML/GML_Task/YAGO_CA</td>\n",
       "    </tr>\n",
       "    <tr>\n",
       "      <th>4</th>\n",
       "      <td>kgnet:GML/GML_Task/DBLP_AF</td>\n",
       "    </tr>\n",
       "  </tbody>\n",
       "</table>\n",
       "</div>"
      ],
      "text/plain": [
       "                            s\n",
       "0  kgnet:GML/GML_Task/DBLP_PV\n",
       "1   kgnet:GML/GML_Task/MAG_PV\n",
       "2   kgnet:GML/GML_Task/CIS_FD\n",
       "3  kgnet:GML/GML_Task/YAGO_CA\n",
       "4  kgnet:GML/GML_Task/DBLP_AF"
      ]
     },
     "execution_count": 3,
     "metadata": {},
     "output_type": "execute_result"
    }
   ],
   "source": [
    "#List available GML Tasks\n",
    "query = \"\"\" \n",
    "Select ?s where {?s a <kgnet:types/GML_Task>.}\"\"\"\n",
    "kg.query(query)"
   ]
  },
  {
   "cell_type": "code",
   "execution_count": 4,
   "id": "3f711b09",
   "metadata": {},
   "outputs": [
    {
     "data": {
      "text/html": [
       "<div>\n",
       "<style scoped>\n",
       "    .dataframe tbody tr th:only-of-type {\n",
       "        vertical-align: middle;\n",
       "    }\n",
       "\n",
       "    .dataframe tbody tr th {\n",
       "        vertical-align: top;\n",
       "    }\n",
       "\n",
       "    .dataframe thead th {\n",
       "        text-align: right;\n",
       "    }\n",
       "</style>\n",
       "<table border=\"1\" class=\"dataframe\">\n",
       "  <thead>\n",
       "    <tr style=\"text-align: right;\">\n",
       "      <th></th>\n",
       "      <th>m</th>\n",
       "    </tr>\n",
       "  </thead>\n",
       "  <tbody>\n",
       "    <tr>\n",
       "      <th>0</th>\n",
       "      <td>kgnet:GML/GML_Model/ID/1111111</td>\n",
       "    </tr>\n",
       "    <tr>\n",
       "      <th>1</th>\n",
       "      <td>kgnet:GML/GML_Model/ID/1111112</td>\n",
       "    </tr>\n",
       "    <tr>\n",
       "      <th>2</th>\n",
       "      <td>kgnet:GML/GML_Model/ID/1111113</td>\n",
       "    </tr>\n",
       "    <tr>\n",
       "      <th>3</th>\n",
       "      <td>kgnet:GML/GML_Model/ID/1111114</td>\n",
       "    </tr>\n",
       "  </tbody>\n",
       "</table>\n",
       "</div>"
      ],
      "text/plain": [
       "                                m\n",
       "0  kgnet:GML/GML_Model/ID/1111111\n",
       "1  kgnet:GML/GML_Model/ID/1111112\n",
       "2  kgnet:GML/GML_Model/ID/1111113\n",
       "3  kgnet:GML/GML_Model/ID/1111114"
      ]
     },
     "execution_count": 4,
     "metadata": {},
     "output_type": "execute_result"
    }
   ],
   "source": [
    "#List available models for a task\n",
    "query = \"\"\"  select ?m\n",
    " where {\n",
    " <kgnet:GML/GML_Task/DBLP_PV> <kgnet:GML_ID> ?m .}\"\"\"\n",
    "kg.query(query)"
   ]
  },
  {
   "cell_type": "code",
   "execution_count": 5,
   "id": "0be671cd",
   "metadata": {},
   "outputs": [
    {
     "data": {
      "text/html": [
       "<div>\n",
       "<style scoped>\n",
       "    .dataframe tbody tr th:only-of-type {\n",
       "        vertical-align: middle;\n",
       "    }\n",
       "\n",
       "    .dataframe tbody tr th {\n",
       "        vertical-align: top;\n",
       "    }\n",
       "\n",
       "    .dataframe thead th {\n",
       "        text-align: right;\n",
       "    }\n",
       "</style>\n",
       "<table border=\"1\" class=\"dataframe\">\n",
       "  <thead>\n",
       "    <tr style=\"text-align: right;\">\n",
       "      <th></th>\n",
       "      <th>m</th>\n",
       "      <th>p</th>\n",
       "      <th>o</th>\n",
       "    </tr>\n",
       "  </thead>\n",
       "  <tbody>\n",
       "    <tr>\n",
       "      <th>0</th>\n",
       "      <td>kgnet:GML/GML_Model/ID/1111111</td>\n",
       "      <td>http://www.w3.org/1999/02/22-rdf-syntax-ns#type</td>\n",
       "      <td>kgnet:types/GML_Model</td>\n",
       "    </tr>\n",
       "    <tr>\n",
       "      <th>1</th>\n",
       "      <td>kgnet:GML/GML_Model/ID/1111111</td>\n",
       "      <td>kgnet:GMLMethod</td>\n",
       "      <td>kgnet:GML/Method/G-SAINT</td>\n",
       "    </tr>\n",
       "    <tr>\n",
       "      <th>2</th>\n",
       "      <td>kgnet:GML/GML_Model/ID/1111111</td>\n",
       "      <td>kgnet:InferenceTime</td>\n",
       "      <td>1</td>\n",
       "    </tr>\n",
       "    <tr>\n",
       "      <th>3</th>\n",
       "      <td>kgnet:GML/GML_Model/ID/1111111</td>\n",
       "      <td>kgnet:ModelAccuracy</td>\n",
       "      <td>47</td>\n",
       "    </tr>\n",
       "    <tr>\n",
       "      <th>4</th>\n",
       "      <td>kgnet:GML/GML_Model/ID/1111111</td>\n",
       "      <td>kgnet:Sampler</td>\n",
       "      <td>kgnet:GML/GNNSampler/RW</td>\n",
       "    </tr>\n",
       "    <tr>\n",
       "      <th>5</th>\n",
       "      <td>kgnet:GML/GML_Model/ID/1111111</td>\n",
       "      <td>kgnet:TaskBudget</td>\n",
       "      <td>kgnet:Task/TaskBudget</td>\n",
       "    </tr>\n",
       "    <tr>\n",
       "      <th>6</th>\n",
       "      <td>kgnet:GML/GML_Model/ID/1111111</td>\n",
       "      <td>kgnet:API_URL</td>\n",
       "      <td>http://127.0.0.1:64646/all</td>\n",
       "    </tr>\n",
       "  </tbody>\n",
       "</table>\n",
       "</div>"
      ],
      "text/plain": [
       "                                m  \\\n",
       "0  kgnet:GML/GML_Model/ID/1111111   \n",
       "1  kgnet:GML/GML_Model/ID/1111111   \n",
       "2  kgnet:GML/GML_Model/ID/1111111   \n",
       "3  kgnet:GML/GML_Model/ID/1111111   \n",
       "4  kgnet:GML/GML_Model/ID/1111111   \n",
       "5  kgnet:GML/GML_Model/ID/1111111   \n",
       "6  kgnet:GML/GML_Model/ID/1111111   \n",
       "\n",
       "                                                 p                           o  \n",
       "0  http://www.w3.org/1999/02/22-rdf-syntax-ns#type       kgnet:types/GML_Model  \n",
       "1                                  kgnet:GMLMethod    kgnet:GML/Method/G-SAINT  \n",
       "2                              kgnet:InferenceTime                           1  \n",
       "3                              kgnet:ModelAccuracy                          47  \n",
       "4                                    kgnet:Sampler     kgnet:GML/GNNSampler/RW  \n",
       "5                                 kgnet:TaskBudget       kgnet:Task/TaskBudget  \n",
       "6                                    kgnet:API_URL  http://127.0.0.1:64646/all  "
      ]
     },
     "execution_count": 5,
     "metadata": {},
     "output_type": "execute_result"
    }
   ],
   "source": [
    "#List model attributes\n",
    "query = \"\"\" select ?m ?p ?o\n",
    " where {\n",
    " <kgnet:GML/GML_Task/DBLP_PV> <kgnet:GML_ID> ?m .\n",
    " ?m a <kgnet:types/GML_Model>.\n",
    " ?m <kgnet:GMLMethod> <kgnet:GML/Method/G-SAINT>.\n",
    " ?m ?p ?o .\n",
    " }\"\"\"\n",
    "kg.query(query)"
   ]
  },
  {
   "cell_type": "code",
   "execution_count": 1,
   "id": "bc48832b",
   "metadata": {},
   "outputs": [
    {
     "name": "stdout",
     "output_type": "stream",
     "text": [
      "/home/afandi/GitRepos/KGNET_DEV/KGNET\r\n"
     ]
    }
   ],
   "source": []
  },
  {
   "cell_type": "code",
   "execution_count": 13,
   "id": "3528d3a2",
   "metadata": {},
   "outputs": [],
   "source": [
    "# DBLP Paper Venue prediction queries\n",
    "\n",
    "from GMLQueryRewriter import gmlRewriter as gr\n",
    "\n",
    "query = \"\"\"\n",
    "prefix dblp:<https://dblp.org/rdf/schema#>\n",
    "prefix kgnet: <https://www.kgnet.ai/>\n",
    "select ?title ?venue \n",
    "where {\n",
    "?paper a dblp:Publication.\n",
    "?paper dblp:title ?title.\n",
    "?paper <https://dblp.org/rdf/schema#publishedIn> ?o.\n",
    "?paper <https://dblp.org/has_gnn_model> 1.\n",
    "\n",
    "?paper ?NodeClassifier ?venue.\n",
    "\n",
    "?NodeClassifier a <kgnet:types/NodeClassifier>.\n",
    "?NodeClassifier <kgnet:GML/TargetNode> <dblp:paper>.\n",
    "?NodeClassifier <kgnet:GML/NodeLabel> <dblp:venue>.\n",
    "}\n",
    "limit 10\n",
    "\"\"\"\n",
    "dataQuery,gmlQuery = gr.execute(query)"
   ]
  },
  {
   "cell_type": "code",
   "execution_count": 14,
   "id": "eec60cb2",
   "metadata": {},
   "outputs": [
    {
     "name": "stdout",
     "output_type": "stream",
     "text": [
      "PREFIX dblp: <https://dblp.org/rdf/schema#>\n",
      "PREFIX kgnet: <https://www.kgnet.ai/>\n",
      "\n",
      "    #SELECT ?NodeClassifier\n",
      "    SELECT ?apiUrl\n",
      "    WHERE\n",
      "    {?NodeClassifier <http://www.w3.org/1999/02/22-rdf-syntax-ns#type> <kgnet:types/NodeClassifier> .\n",
      "?NodeClassifier <kgnet:GML/TargetNode> <dblp:Publication> .\n",
      "?NodeClassifier <kgnet:GML/NodeLabel> <dblp:venue> .\n",
      "?NodeClassifier <kgnet:term/uses> ?gmlModel .\n",
      "?gmlModel <kgnet:API_URL> ?apiUrl .}\n"
     ]
    }
   ],
   "source": [
    "print(gmlQuery)"
   ]
  },
  {
   "cell_type": "code",
   "execution_count": 15,
   "id": "90a09df2",
   "metadata": {
    "scrolled": true
   },
   "outputs": [
    {
     "name": "stdout",
     "output_type": "stream",
     "text": [
      "PREFIX dblp: <https://dblp.org/rdf/schema#>\n",
      "PREFIX kgnet: <https://www.kgnet.ai/>\n",
      "SELECT ?title,\n",
      " sql:getKeyValue_v2(?paper,?venue_dic) as ?venue \n",
      "\n",
      " WHERE { \n",
      "?paper <http://www.w3.org/1999/02/22-rdf-syntax-ns#type> dblp:Publication .\n",
      "?paper dblp:title ?title .\n",
      "?paper <https://dblp.org/rdf/schema#publishedIn> ?o .\n",
      "?paper <https://dblp.org/has_gnn_model> 1 .\n",
      "{SELECT sql:getNodeClass_v2('http://127.0.0.1:64646/all','dblp:Publication') \n",
      " as ?venue_dic WHERE {} }}\n",
      " LIMIT 10\n"
     ]
    }
   ],
   "source": [
    "print(dataQuery)"
   ]
  },
  {
   "cell_type": "code",
   "execution_count": 16,
   "id": "4df789c8",
   "metadata": {},
   "outputs": [
    {
     "data": {
      "text/html": [
       "<div>\n",
       "<style scoped>\n",
       "    .dataframe tbody tr th:only-of-type {\n",
       "        vertical-align: middle;\n",
       "    }\n",
       "\n",
       "    .dataframe tbody tr th {\n",
       "        vertical-align: top;\n",
       "    }\n",
       "\n",
       "    .dataframe thead th {\n",
       "        text-align: right;\n",
       "    }\n",
       "</style>\n",
       "<table border=\"1\" class=\"dataframe\">\n",
       "  <thead>\n",
       "    <tr style=\"text-align: right;\">\n",
       "      <th></th>\n",
       "      <th>title</th>\n",
       "      <th>venue</th>\n",
       "    </tr>\n",
       "  </thead>\n",
       "  <tbody>\n",
       "    <tr>\n",
       "      <th>0</th>\n",
       "      <td>A data partition method for parallel self-orga...</td>\n",
       "      <td>IJCNN</td>\n",
       "    </tr>\n",
       "    <tr>\n",
       "      <th>1</th>\n",
       "      <td>On-line Gaussian mixture density estimator for...</td>\n",
       "      <td>IJCNN</td>\n",
       "    </tr>\n",
       "    <tr>\n",
       "      <th>2</th>\n",
       "      <td>System identification with partial-state measu...</td>\n",
       "      <td>IJCNN</td>\n",
       "    </tr>\n",
       "    <tr>\n",
       "      <th>3</th>\n",
       "      <td>Relearning procedure to adapt pollutant predic...</td>\n",
       "      <td>IJCNN</td>\n",
       "    </tr>\n",
       "    <tr>\n",
       "      <th>4</th>\n",
       "      <td>A dynamic neural network for syllable recognit...</td>\n",
       "      <td>IJCNN</td>\n",
       "    </tr>\n",
       "    <tr>\n",
       "      <th>5</th>\n",
       "      <td>EEG based gesture mimicking by an artificial l...</td>\n",
       "      <td>IJCNN</td>\n",
       "    </tr>\n",
       "    <tr>\n",
       "      <th>6</th>\n",
       "      <td>Analysis and Implementation of Simple Dynamic ...</td>\n",
       "      <td>IJCNN</td>\n",
       "    </tr>\n",
       "    <tr>\n",
       "      <th>7</th>\n",
       "      <td>Expected similarity estimation for large scale...</td>\n",
       "      <td>IJCNN</td>\n",
       "    </tr>\n",
       "    <tr>\n",
       "      <th>8</th>\n",
       "      <td>AUC Estimation and Concept Drift Detection for...</td>\n",
       "      <td>IJCNN</td>\n",
       "    </tr>\n",
       "    <tr>\n",
       "      <th>9</th>\n",
       "      <td>Attention-driven Multi-sensor Selection.</td>\n",
       "      <td>IJCNN</td>\n",
       "    </tr>\n",
       "  </tbody>\n",
       "</table>\n",
       "</div>"
      ],
      "text/plain": [
       "                                               title  venue\n",
       "0  A data partition method for parallel self-orga...  IJCNN\n",
       "1  On-line Gaussian mixture density estimator for...  IJCNN\n",
       "2  System identification with partial-state measu...  IJCNN\n",
       "3  Relearning procedure to adapt pollutant predic...  IJCNN\n",
       "4  A dynamic neural network for syllable recognit...  IJCNN\n",
       "5  EEG based gesture mimicking by an artificial l...  IJCNN\n",
       "6  Analysis and Implementation of Simple Dynamic ...  IJCNN\n",
       "7  Expected similarity estimation for large scale...  IJCNN\n",
       "8  AUC Estimation and Concept Drift Detection for...  IJCNN\n",
       "9           Attention-driven Multi-sensor Selection.  IJCNN"
      ]
     },
     "execution_count": 16,
     "metadata": {},
     "output_type": "execute_result"
    }
   ],
   "source": [
    "# GML as a service\n",
    "\n",
    "from GMLWebServiceApis import GML_to_CSV as gcsv\n",
    "import time\n",
    "import os\n",
    "import pandas as pd\n",
    "filename = os.path.join(time.strftime(\"%Y%m%d-%H%M%S\"+'.csv'))\n",
    "gcsv.sparqlToCSV(dataQuery, filename)\n",
    "gcsv.mapVenues(filename,r'./GMLWebServiceApis/data/labelidx2labelname.csv')\n",
    "df = pd.read_csv(filename)\n",
    "df"
   ]
  },
  {
   "cell_type": "code",
   "execution_count": null,
   "id": "9bf6c2f4",
   "metadata": {},
   "outputs": [],
   "source": []
  }
 ],
 "metadata": {
  "kernelspec": {
   "display_name": "Python [conda env:torch]",
   "language": "python",
   "name": "conda-env-torch-py"
  },
  "language_info": {
   "codemirror_mode": {
    "name": "ipython",
    "version": 3
   },
   "file_extension": ".py",
   "mimetype": "text/x-python",
   "name": "python",
   "nbconvert_exporter": "python",
   "pygments_lexer": "ipython3",
   "version": "3.9.16"
  }
 },
 "nbformat": 4,
 "nbformat_minor": 5
}
